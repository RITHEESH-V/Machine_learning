{
 "cells": [
  {
   "cell_type": "markdown",
   "id": "204c4677",
   "metadata": {},
   "source": [
    "### We are required to build the model to predict or estimate the price of used cars with the available features. It will be used by the management to understand how exactly the prices vary with these features. They can accordingly apply the pricing strategy for their used cars. \n",
    "\n",
    "### Further, the model will be a good way for management to understand the pricing dynamics of a market.\n"
   ]
  },
  {
   "cell_type": "code",
   "execution_count": 1,
   "id": "703cac1a",
   "metadata": {},
   "outputs": [],
   "source": [
    "import pandas as pd\n",
    "import seaborn as sns\n",
    "import numpy as np\n",
    "import matplotlib.pyplot as plt\n",
    "from sklearn.preprocessing import LabelEncoder,MinMaxScaler,StandardScaler,RobustScaler\n",
    "from sklearn.model_selection import train_test_split\n",
    "from sklearn.tree import DecisionTreeRegressor\n",
    "from sklearn.ensemble import GradientBoostingRegressor\n",
    "from sklearn.metrics import r2_score,mean_squared_error,mean_absolute_error,mean_absolute_percentage_error\n",
    "from sklearn.model_selection import GridSearchCV,RandomizedSearchCV\n",
    "from sklearn.ensemble import AdaBoostRegressor\n",
    "import missingno as ms"
   ]
  },
  {
   "cell_type": "code",
   "execution_count": 2,
   "id": "660caf0d",
   "metadata": {},
   "outputs": [],
   "source": [
    "df=pd.read_excel('D:\\PGCP-DSML RITHEESH V\\Machine learning\\ML-Assignment 1\\dataset_Assignment-1.xlsx')"
   ]
  },
  {
   "cell_type": "code",
   "execution_count": 3,
   "id": "e38b48d8",
   "metadata": {},
   "outputs": [
    {
     "data": {
      "text/html": [
       "<div>\n",
       "<style scoped>\n",
       "    .dataframe tbody tr th:only-of-type {\n",
       "        vertical-align: middle;\n",
       "    }\n",
       "\n",
       "    .dataframe tbody tr th {\n",
       "        vertical-align: top;\n",
       "    }\n",
       "\n",
       "    .dataframe thead th {\n",
       "        text-align: right;\n",
       "    }\n",
       "</style>\n",
       "<table border=\"1\" class=\"dataframe\">\n",
       "  <thead>\n",
       "    <tr style=\"text-align: right;\">\n",
       "      <th></th>\n",
       "      <th>car_ID</th>\n",
       "      <th>symboling</th>\n",
       "      <th>CarName</th>\n",
       "      <th>fueltype</th>\n",
       "      <th>aspiration</th>\n",
       "      <th>doornumber</th>\n",
       "      <th>carbody</th>\n",
       "      <th>drivewheel</th>\n",
       "      <th>wheelbase</th>\n",
       "      <th>carlength</th>\n",
       "      <th>...</th>\n",
       "      <th>enginesize</th>\n",
       "      <th>fuelsystem</th>\n",
       "      <th>boreratio</th>\n",
       "      <th>stroke</th>\n",
       "      <th>compressionratio</th>\n",
       "      <th>horsepower</th>\n",
       "      <th>peakrpm</th>\n",
       "      <th>citympg</th>\n",
       "      <th>highwaympg</th>\n",
       "      <th>price</th>\n",
       "    </tr>\n",
       "  </thead>\n",
       "  <tbody>\n",
       "    <tr>\n",
       "      <th>0</th>\n",
       "      <td>1</td>\n",
       "      <td>3</td>\n",
       "      <td>alfa-romero giulia</td>\n",
       "      <td>gas</td>\n",
       "      <td>std</td>\n",
       "      <td>two</td>\n",
       "      <td>convertible</td>\n",
       "      <td>rwd</td>\n",
       "      <td>88.6</td>\n",
       "      <td>168.8</td>\n",
       "      <td>...</td>\n",
       "      <td>130.0</td>\n",
       "      <td>mpfi</td>\n",
       "      <td>3.47</td>\n",
       "      <td>2.68</td>\n",
       "      <td>9.0</td>\n",
       "      <td>111</td>\n",
       "      <td>5000</td>\n",
       "      <td>21.0</td>\n",
       "      <td>27.0</td>\n",
       "      <td>13495.0</td>\n",
       "    </tr>\n",
       "    <tr>\n",
       "      <th>1</th>\n",
       "      <td>2</td>\n",
       "      <td>3</td>\n",
       "      <td>alfa-romero stelvio</td>\n",
       "      <td>gas</td>\n",
       "      <td>std</td>\n",
       "      <td>two</td>\n",
       "      <td>convertible</td>\n",
       "      <td>rwd</td>\n",
       "      <td>88.6</td>\n",
       "      <td>168.8</td>\n",
       "      <td>...</td>\n",
       "      <td>130.0</td>\n",
       "      <td>mpfi</td>\n",
       "      <td>3.47</td>\n",
       "      <td>2.68</td>\n",
       "      <td>9.0</td>\n",
       "      <td>111</td>\n",
       "      <td>5000</td>\n",
       "      <td>21.0</td>\n",
       "      <td>27.0</td>\n",
       "      <td>16500.0</td>\n",
       "    </tr>\n",
       "    <tr>\n",
       "      <th>2</th>\n",
       "      <td>3</td>\n",
       "      <td>1</td>\n",
       "      <td>alfa-romero Quadrifoglio</td>\n",
       "      <td>gas</td>\n",
       "      <td>std</td>\n",
       "      <td>two</td>\n",
       "      <td>hatchback</td>\n",
       "      <td>rwd</td>\n",
       "      <td>94.5</td>\n",
       "      <td>171.2</td>\n",
       "      <td>...</td>\n",
       "      <td>152.0</td>\n",
       "      <td>mpfi</td>\n",
       "      <td>2.68</td>\n",
       "      <td>3.47</td>\n",
       "      <td>9.0</td>\n",
       "      <td>154</td>\n",
       "      <td>5000</td>\n",
       "      <td>19.0</td>\n",
       "      <td>26.0</td>\n",
       "      <td>16500.0</td>\n",
       "    </tr>\n",
       "    <tr>\n",
       "      <th>3</th>\n",
       "      <td>4</td>\n",
       "      <td>2</td>\n",
       "      <td>audi 100 ls</td>\n",
       "      <td>gas</td>\n",
       "      <td>std</td>\n",
       "      <td>four</td>\n",
       "      <td>sedan</td>\n",
       "      <td>fwd</td>\n",
       "      <td>99.8</td>\n",
       "      <td>176.6</td>\n",
       "      <td>...</td>\n",
       "      <td>109.0</td>\n",
       "      <td>mpfi</td>\n",
       "      <td>3.19</td>\n",
       "      <td>3.40</td>\n",
       "      <td>10.0</td>\n",
       "      <td>102</td>\n",
       "      <td>5500</td>\n",
       "      <td>24.0</td>\n",
       "      <td>30.0</td>\n",
       "      <td>13950.0</td>\n",
       "    </tr>\n",
       "    <tr>\n",
       "      <th>4</th>\n",
       "      <td>5</td>\n",
       "      <td>2</td>\n",
       "      <td>audi 100ls</td>\n",
       "      <td>gas</td>\n",
       "      <td>std</td>\n",
       "      <td>four</td>\n",
       "      <td>sedan</td>\n",
       "      <td>4wd</td>\n",
       "      <td>99.4</td>\n",
       "      <td>176.6</td>\n",
       "      <td>...</td>\n",
       "      <td>136.0</td>\n",
       "      <td>mpfi</td>\n",
       "      <td>3.19</td>\n",
       "      <td>3.40</td>\n",
       "      <td>8.0</td>\n",
       "      <td>115</td>\n",
       "      <td>5500</td>\n",
       "      <td>18.0</td>\n",
       "      <td>22.0</td>\n",
       "      <td>17450.0</td>\n",
       "    </tr>\n",
       "  </tbody>\n",
       "</table>\n",
       "<p>5 rows × 25 columns</p>\n",
       "</div>"
      ],
      "text/plain": [
       "   car_ID  symboling                   CarName fueltype aspiration doornumber  \\\n",
       "0       1          3        alfa-romero giulia      gas        std        two   \n",
       "1       2          3       alfa-romero stelvio      gas        std        two   \n",
       "2       3          1  alfa-romero Quadrifoglio      gas        std        two   \n",
       "3       4          2               audi 100 ls      gas        std       four   \n",
       "4       5          2                audi 100ls      gas        std       four   \n",
       "\n",
       "       carbody drivewheel  wheelbase  carlength  ...  enginesize  fuelsystem  \\\n",
       "0  convertible        rwd       88.6      168.8  ...       130.0        mpfi   \n",
       "1  convertible        rwd       88.6      168.8  ...       130.0        mpfi   \n",
       "2    hatchback        rwd       94.5      171.2  ...       152.0        mpfi   \n",
       "3        sedan        fwd       99.8      176.6  ...       109.0        mpfi   \n",
       "4        sedan        4wd       99.4      176.6  ...       136.0        mpfi   \n",
       "\n",
       "   boreratio stroke compressionratio  horsepower peakrpm  citympg  highwaympg  \\\n",
       "0       3.47   2.68              9.0         111    5000     21.0        27.0   \n",
       "1       3.47   2.68              9.0         111    5000     21.0        27.0   \n",
       "2       2.68   3.47              9.0         154    5000     19.0        26.0   \n",
       "3       3.19   3.40             10.0         102    5500     24.0        30.0   \n",
       "4       3.19   3.40              8.0         115    5500     18.0        22.0   \n",
       "\n",
       "     price  \n",
       "0  13495.0  \n",
       "1  16500.0  \n",
       "2  16500.0  \n",
       "3  13950.0  \n",
       "4  17450.0  \n",
       "\n",
       "[5 rows x 25 columns]"
      ]
     },
     "execution_count": 3,
     "metadata": {},
     "output_type": "execute_result"
    }
   ],
   "source": [
    "df.head()"
   ]
  },
  {
   "cell_type": "code",
   "execution_count": 4,
   "id": "0a6cba79",
   "metadata": {},
   "outputs": [
    {
     "name": "stdout",
     "output_type": "stream",
     "text": [
      "<class 'pandas.core.frame.DataFrame'>\n",
      "RangeIndex: 205 entries, 0 to 204\n",
      "Data columns (total 25 columns):\n",
      " #   Column            Non-Null Count  Dtype  \n",
      "---  ------            --------------  -----  \n",
      " 0   car_ID            205 non-null    int64  \n",
      " 1   symboling         205 non-null    int64  \n",
      " 2   CarName           205 non-null    object \n",
      " 3   fueltype          200 non-null    object \n",
      " 4   aspiration        203 non-null    object \n",
      " 5   doornumber        202 non-null    object \n",
      " 6   carbody           205 non-null    object \n",
      " 7   drivewheel        198 non-null    object \n",
      " 8   wheelbase         202 non-null    float64\n",
      " 9   carlength         202 non-null    float64\n",
      " 10  carwidth          200 non-null    float64\n",
      " 11  carheight         198 non-null    float64\n",
      " 12  curbweight        205 non-null    int64  \n",
      " 13  enginetype        205 non-null    object \n",
      " 14  cylindernumber    201 non-null    object \n",
      " 15  enginesize        199 non-null    float64\n",
      " 16  fuelsystem        197 non-null    object \n",
      " 17  boreratio         201 non-null    float64\n",
      " 18  stroke            195 non-null    float64\n",
      " 19  compressionratio  201 non-null    float64\n",
      " 20  horsepower        205 non-null    int64  \n",
      " 21  peakrpm           205 non-null    int64  \n",
      " 22  citympg           193 non-null    float64\n",
      " 23  highwaympg        196 non-null    float64\n",
      " 24  price             205 non-null    float64\n",
      "dtypes: float64(11), int64(5), object(9)\n",
      "memory usage: 40.2+ KB\n"
     ]
    }
   ],
   "source": [
    "df.info()\n",
    "df1=df.copy()"
   ]
  },
  {
   "cell_type": "code",
   "execution_count": 5,
   "id": "904963de",
   "metadata": {},
   "outputs": [
    {
     "data": {
      "text/plain": [
       "(205, 25)"
      ]
     },
     "execution_count": 5,
     "metadata": {},
     "output_type": "execute_result"
    }
   ],
   "source": [
    "df1.shape"
   ]
  },
  {
   "cell_type": "code",
   "execution_count": 6,
   "id": "4cc358fa",
   "metadata": {},
   "outputs": [],
   "source": [
    "df1.drop(['car_ID','symboling','drivewheel','cylindernumber'],axis=1,inplace=True)"
   ]
  },
  {
   "cell_type": "markdown",
   "id": "16651a5f",
   "metadata": {},
   "source": [
    "## TREATING MISSING VALUES"
   ]
  },
  {
   "cell_type": "code",
   "execution_count": 7,
   "id": "e0a6b3a4",
   "metadata": {},
   "outputs": [
    {
     "data": {
      "text/plain": [
       "CarName              0\n",
       "fueltype             5\n",
       "aspiration           2\n",
       "doornumber           3\n",
       "carbody              0\n",
       "wheelbase            3\n",
       "carlength            3\n",
       "carwidth             5\n",
       "carheight            7\n",
       "curbweight           0\n",
       "enginetype           0\n",
       "enginesize           6\n",
       "fuelsystem           8\n",
       "boreratio            4\n",
       "stroke              10\n",
       "compressionratio     4\n",
       "horsepower           0\n",
       "peakrpm              0\n",
       "citympg             12\n",
       "highwaympg           9\n",
       "price                0\n",
       "dtype: int64"
      ]
     },
     "execution_count": 7,
     "metadata": {},
     "output_type": "execute_result"
    }
   ],
   "source": [
    "df1.isnull().sum()"
   ]
  },
  {
   "cell_type": "code",
   "execution_count": 8,
   "id": "d65a00b8",
   "metadata": {},
   "outputs": [],
   "source": [
    "df1.fueltype.fillna(df1.fueltype.mode()[0],inplace=True)\n",
    "df1.aspiration.fillna(df1.aspiration.mode()[0],inplace=True)\n",
    "df1.doornumber.fillna(df1.doornumber.mode()[0],inplace=True)\n",
    "df1.wheelbase.fillna(df1.wheelbase.median(),inplace=True)  \n",
    "df1.carlength.fillna(df1.carlength.median(),inplace=True)\n",
    "df1.carwidth.fillna(df1.carwidth.median(),inplace=True)\n",
    "df1.carheight.fillna(df1.carheight.median(),inplace=True)\n",
    "df1.enginesize.fillna(df1.enginesize.median(),inplace=True)\n",
    "df1.fuelsystem.fillna(df1.fuelsystem.mode()[0],inplace=True)\n",
    "df1.boreratio.fillna(df1.boreratio.median(),inplace=True)\n",
    "df1.stroke.fillna(df1.stroke.median(),inplace=True)\n",
    "df1.compressionratio.fillna(df1.compressionratio.median(),inplace=True)\n",
    "df1.citympg.fillna(df1.citympg.median(),inplace=True)\n",
    "df1.highwaympg.fillna(df1.highwaympg.median(),inplace=True)"
   ]
  },
  {
   "cell_type": "markdown",
   "id": "77948a26",
   "metadata": {},
   "source": [
    "### DATA ENCODING"
   ]
  },
  {
   "cell_type": "code",
   "execution_count": 9,
   "id": "ed5d5174",
   "metadata": {},
   "outputs": [
    {
     "name": "stderr",
     "output_type": "stream",
     "text": [
      "C:\\Users\\velur\\anaconda3\\lib\\site-packages\\sklearn\\preprocessing\\_label.py:115: DataConversionWarning: A column-vector y was passed when a 1d array was expected. Please change the shape of y to (n_samples, ), for example using ravel().\n",
      "  y = column_or_1d(y, warn=True)\n"
     ]
    }
   ],
   "source": [
    "le=LabelEncoder()\n",
    "for i in ['CarName','fueltype','aspiration','doornumber','carbody','enginetype','fuelsystem']:\n",
    "    df1[i]=le.fit_transform(df1[i].values.reshape(-1,1))"
   ]
  },
  {
   "cell_type": "code",
   "execution_count": 10,
   "id": "c07b8487",
   "metadata": {},
   "outputs": [
    {
     "data": {
      "text/html": [
       "<div>\n",
       "<style scoped>\n",
       "    .dataframe tbody tr th:only-of-type {\n",
       "        vertical-align: middle;\n",
       "    }\n",
       "\n",
       "    .dataframe tbody tr th {\n",
       "        vertical-align: top;\n",
       "    }\n",
       "\n",
       "    .dataframe thead th {\n",
       "        text-align: right;\n",
       "    }\n",
       "</style>\n",
       "<table border=\"1\" class=\"dataframe\">\n",
       "  <thead>\n",
       "    <tr style=\"text-align: right;\">\n",
       "      <th></th>\n",
       "      <th>CarName</th>\n",
       "      <th>fueltype</th>\n",
       "      <th>aspiration</th>\n",
       "      <th>doornumber</th>\n",
       "      <th>carbody</th>\n",
       "      <th>wheelbase</th>\n",
       "      <th>carlength</th>\n",
       "      <th>carwidth</th>\n",
       "      <th>carheight</th>\n",
       "      <th>curbweight</th>\n",
       "      <th>...</th>\n",
       "      <th>enginesize</th>\n",
       "      <th>fuelsystem</th>\n",
       "      <th>boreratio</th>\n",
       "      <th>stroke</th>\n",
       "      <th>compressionratio</th>\n",
       "      <th>horsepower</th>\n",
       "      <th>peakrpm</th>\n",
       "      <th>citympg</th>\n",
       "      <th>highwaympg</th>\n",
       "      <th>price</th>\n",
       "    </tr>\n",
       "  </thead>\n",
       "  <tbody>\n",
       "    <tr>\n",
       "      <th>0</th>\n",
       "      <td>2</td>\n",
       "      <td>1</td>\n",
       "      <td>0</td>\n",
       "      <td>1</td>\n",
       "      <td>0</td>\n",
       "      <td>88.6</td>\n",
       "      <td>168.8</td>\n",
       "      <td>64.1</td>\n",
       "      <td>48.8</td>\n",
       "      <td>2548</td>\n",
       "      <td>...</td>\n",
       "      <td>130.0</td>\n",
       "      <td>5</td>\n",
       "      <td>3.47</td>\n",
       "      <td>2.68</td>\n",
       "      <td>9.0</td>\n",
       "      <td>111</td>\n",
       "      <td>5000</td>\n",
       "      <td>21.0</td>\n",
       "      <td>27.0</td>\n",
       "      <td>13495.0</td>\n",
       "    </tr>\n",
       "    <tr>\n",
       "      <th>1</th>\n",
       "      <td>3</td>\n",
       "      <td>1</td>\n",
       "      <td>0</td>\n",
       "      <td>1</td>\n",
       "      <td>0</td>\n",
       "      <td>88.6</td>\n",
       "      <td>168.8</td>\n",
       "      <td>64.1</td>\n",
       "      <td>48.8</td>\n",
       "      <td>2548</td>\n",
       "      <td>...</td>\n",
       "      <td>130.0</td>\n",
       "      <td>5</td>\n",
       "      <td>3.47</td>\n",
       "      <td>2.68</td>\n",
       "      <td>9.0</td>\n",
       "      <td>111</td>\n",
       "      <td>5000</td>\n",
       "      <td>21.0</td>\n",
       "      <td>27.0</td>\n",
       "      <td>16500.0</td>\n",
       "    </tr>\n",
       "    <tr>\n",
       "      <th>2</th>\n",
       "      <td>1</td>\n",
       "      <td>1</td>\n",
       "      <td>0</td>\n",
       "      <td>1</td>\n",
       "      <td>2</td>\n",
       "      <td>94.5</td>\n",
       "      <td>171.2</td>\n",
       "      <td>65.5</td>\n",
       "      <td>52.4</td>\n",
       "      <td>2823</td>\n",
       "      <td>...</td>\n",
       "      <td>152.0</td>\n",
       "      <td>5</td>\n",
       "      <td>2.68</td>\n",
       "      <td>3.47</td>\n",
       "      <td>9.0</td>\n",
       "      <td>154</td>\n",
       "      <td>5000</td>\n",
       "      <td>19.0</td>\n",
       "      <td>26.0</td>\n",
       "      <td>16500.0</td>\n",
       "    </tr>\n",
       "    <tr>\n",
       "      <th>3</th>\n",
       "      <td>4</td>\n",
       "      <td>1</td>\n",
       "      <td>0</td>\n",
       "      <td>0</td>\n",
       "      <td>3</td>\n",
       "      <td>99.8</td>\n",
       "      <td>176.6</td>\n",
       "      <td>66.2</td>\n",
       "      <td>54.3</td>\n",
       "      <td>2337</td>\n",
       "      <td>...</td>\n",
       "      <td>109.0</td>\n",
       "      <td>5</td>\n",
       "      <td>3.19</td>\n",
       "      <td>3.40</td>\n",
       "      <td>10.0</td>\n",
       "      <td>102</td>\n",
       "      <td>5500</td>\n",
       "      <td>24.0</td>\n",
       "      <td>30.0</td>\n",
       "      <td>13950.0</td>\n",
       "    </tr>\n",
       "    <tr>\n",
       "      <th>4</th>\n",
       "      <td>5</td>\n",
       "      <td>1</td>\n",
       "      <td>0</td>\n",
       "      <td>0</td>\n",
       "      <td>3</td>\n",
       "      <td>99.4</td>\n",
       "      <td>176.6</td>\n",
       "      <td>66.4</td>\n",
       "      <td>54.3</td>\n",
       "      <td>2824</td>\n",
       "      <td>...</td>\n",
       "      <td>136.0</td>\n",
       "      <td>5</td>\n",
       "      <td>3.19</td>\n",
       "      <td>3.40</td>\n",
       "      <td>8.0</td>\n",
       "      <td>115</td>\n",
       "      <td>5500</td>\n",
       "      <td>18.0</td>\n",
       "      <td>22.0</td>\n",
       "      <td>17450.0</td>\n",
       "    </tr>\n",
       "    <tr>\n",
       "      <th>...</th>\n",
       "      <td>...</td>\n",
       "      <td>...</td>\n",
       "      <td>...</td>\n",
       "      <td>...</td>\n",
       "      <td>...</td>\n",
       "      <td>...</td>\n",
       "      <td>...</td>\n",
       "      <td>...</td>\n",
       "      <td>...</td>\n",
       "      <td>...</td>\n",
       "      <td>...</td>\n",
       "      <td>...</td>\n",
       "      <td>...</td>\n",
       "      <td>...</td>\n",
       "      <td>...</td>\n",
       "      <td>...</td>\n",
       "      <td>...</td>\n",
       "      <td>...</td>\n",
       "      <td>...</td>\n",
       "      <td>...</td>\n",
       "      <td>...</td>\n",
       "    </tr>\n",
       "    <tr>\n",
       "      <th>200</th>\n",
       "      <td>139</td>\n",
       "      <td>1</td>\n",
       "      <td>0</td>\n",
       "      <td>0</td>\n",
       "      <td>3</td>\n",
       "      <td>109.1</td>\n",
       "      <td>188.8</td>\n",
       "      <td>68.9</td>\n",
       "      <td>55.5</td>\n",
       "      <td>2952</td>\n",
       "      <td>...</td>\n",
       "      <td>141.0</td>\n",
       "      <td>5</td>\n",
       "      <td>3.78</td>\n",
       "      <td>3.15</td>\n",
       "      <td>9.5</td>\n",
       "      <td>114</td>\n",
       "      <td>5400</td>\n",
       "      <td>23.0</td>\n",
       "      <td>28.0</td>\n",
       "      <td>16845.0</td>\n",
       "    </tr>\n",
       "    <tr>\n",
       "      <th>201</th>\n",
       "      <td>138</td>\n",
       "      <td>1</td>\n",
       "      <td>1</td>\n",
       "      <td>0</td>\n",
       "      <td>3</td>\n",
       "      <td>109.1</td>\n",
       "      <td>188.8</td>\n",
       "      <td>68.8</td>\n",
       "      <td>55.5</td>\n",
       "      <td>3049</td>\n",
       "      <td>...</td>\n",
       "      <td>141.0</td>\n",
       "      <td>5</td>\n",
       "      <td>3.78</td>\n",
       "      <td>3.15</td>\n",
       "      <td>8.7</td>\n",
       "      <td>160</td>\n",
       "      <td>5300</td>\n",
       "      <td>19.0</td>\n",
       "      <td>25.0</td>\n",
       "      <td>19045.0</td>\n",
       "    </tr>\n",
       "    <tr>\n",
       "      <th>202</th>\n",
       "      <td>140</td>\n",
       "      <td>1</td>\n",
       "      <td>0</td>\n",
       "      <td>0</td>\n",
       "      <td>3</td>\n",
       "      <td>109.1</td>\n",
       "      <td>188.8</td>\n",
       "      <td>68.9</td>\n",
       "      <td>55.5</td>\n",
       "      <td>3012</td>\n",
       "      <td>...</td>\n",
       "      <td>173.0</td>\n",
       "      <td>5</td>\n",
       "      <td>3.58</td>\n",
       "      <td>2.87</td>\n",
       "      <td>8.8</td>\n",
       "      <td>134</td>\n",
       "      <td>5500</td>\n",
       "      <td>18.0</td>\n",
       "      <td>23.0</td>\n",
       "      <td>21485.0</td>\n",
       "    </tr>\n",
       "    <tr>\n",
       "      <th>203</th>\n",
       "      <td>142</td>\n",
       "      <td>0</td>\n",
       "      <td>1</td>\n",
       "      <td>0</td>\n",
       "      <td>3</td>\n",
       "      <td>109.1</td>\n",
       "      <td>188.8</td>\n",
       "      <td>68.9</td>\n",
       "      <td>55.5</td>\n",
       "      <td>3217</td>\n",
       "      <td>...</td>\n",
       "      <td>145.0</td>\n",
       "      <td>3</td>\n",
       "      <td>3.01</td>\n",
       "      <td>3.40</td>\n",
       "      <td>23.0</td>\n",
       "      <td>106</td>\n",
       "      <td>4800</td>\n",
       "      <td>26.0</td>\n",
       "      <td>27.0</td>\n",
       "      <td>22470.0</td>\n",
       "    </tr>\n",
       "    <tr>\n",
       "      <th>204</th>\n",
       "      <td>143</td>\n",
       "      <td>1</td>\n",
       "      <td>1</td>\n",
       "      <td>0</td>\n",
       "      <td>3</td>\n",
       "      <td>109.1</td>\n",
       "      <td>188.8</td>\n",
       "      <td>68.9</td>\n",
       "      <td>55.5</td>\n",
       "      <td>3062</td>\n",
       "      <td>...</td>\n",
       "      <td>141.0</td>\n",
       "      <td>5</td>\n",
       "      <td>3.78</td>\n",
       "      <td>3.15</td>\n",
       "      <td>9.5</td>\n",
       "      <td>114</td>\n",
       "      <td>5400</td>\n",
       "      <td>19.0</td>\n",
       "      <td>25.0</td>\n",
       "      <td>22625.0</td>\n",
       "    </tr>\n",
       "  </tbody>\n",
       "</table>\n",
       "<p>205 rows × 21 columns</p>\n",
       "</div>"
      ],
      "text/plain": [
       "     CarName  fueltype  aspiration  doornumber  carbody  wheelbase  carlength  \\\n",
       "0          2         1           0           1        0       88.6      168.8   \n",
       "1          3         1           0           1        0       88.6      168.8   \n",
       "2          1         1           0           1        2       94.5      171.2   \n",
       "3          4         1           0           0        3       99.8      176.6   \n",
       "4          5         1           0           0        3       99.4      176.6   \n",
       "..       ...       ...         ...         ...      ...        ...        ...   \n",
       "200      139         1           0           0        3      109.1      188.8   \n",
       "201      138         1           1           0        3      109.1      188.8   \n",
       "202      140         1           0           0        3      109.1      188.8   \n",
       "203      142         0           1           0        3      109.1      188.8   \n",
       "204      143         1           1           0        3      109.1      188.8   \n",
       "\n",
       "     carwidth  carheight  curbweight  ...  enginesize  fuelsystem  boreratio  \\\n",
       "0        64.1       48.8        2548  ...       130.0           5       3.47   \n",
       "1        64.1       48.8        2548  ...       130.0           5       3.47   \n",
       "2        65.5       52.4        2823  ...       152.0           5       2.68   \n",
       "3        66.2       54.3        2337  ...       109.0           5       3.19   \n",
       "4        66.4       54.3        2824  ...       136.0           5       3.19   \n",
       "..        ...        ...         ...  ...         ...         ...        ...   \n",
       "200      68.9       55.5        2952  ...       141.0           5       3.78   \n",
       "201      68.8       55.5        3049  ...       141.0           5       3.78   \n",
       "202      68.9       55.5        3012  ...       173.0           5       3.58   \n",
       "203      68.9       55.5        3217  ...       145.0           3       3.01   \n",
       "204      68.9       55.5        3062  ...       141.0           5       3.78   \n",
       "\n",
       "     stroke  compressionratio  horsepower  peakrpm  citympg  highwaympg  \\\n",
       "0      2.68               9.0         111     5000     21.0        27.0   \n",
       "1      2.68               9.0         111     5000     21.0        27.0   \n",
       "2      3.47               9.0         154     5000     19.0        26.0   \n",
       "3      3.40              10.0         102     5500     24.0        30.0   \n",
       "4      3.40               8.0         115     5500     18.0        22.0   \n",
       "..      ...               ...         ...      ...      ...         ...   \n",
       "200    3.15               9.5         114     5400     23.0        28.0   \n",
       "201    3.15               8.7         160     5300     19.0        25.0   \n",
       "202    2.87               8.8         134     5500     18.0        23.0   \n",
       "203    3.40              23.0         106     4800     26.0        27.0   \n",
       "204    3.15               9.5         114     5400     19.0        25.0   \n",
       "\n",
       "       price  \n",
       "0    13495.0  \n",
       "1    16500.0  \n",
       "2    16500.0  \n",
       "3    13950.0  \n",
       "4    17450.0  \n",
       "..       ...  \n",
       "200  16845.0  \n",
       "201  19045.0  \n",
       "202  21485.0  \n",
       "203  22470.0  \n",
       "204  22625.0  \n",
       "\n",
       "[205 rows x 21 columns]"
      ]
     },
     "execution_count": 10,
     "metadata": {},
     "output_type": "execute_result"
    }
   ],
   "source": [
    "df1"
   ]
  },
  {
   "cell_type": "code",
   "execution_count": 11,
   "id": "6ec5ffc0",
   "metadata": {},
   "outputs": [],
   "source": [
    "minmax=MinMaxScaler()\n",
    "for i in ['wheelbase','carlength','carwidth','carheight','curbweight','enginesize','boreratio','stroke','compressionratio','horsepower','peakrpm','citympg','highwaympg','price']:\n",
    "    df1[i]=minmax.fit_transform(df1[i].values.reshape(-1,1))"
   ]
  },
  {
   "cell_type": "code",
   "execution_count": 12,
   "id": "de137817",
   "metadata": {},
   "outputs": [
    {
     "data": {
      "text/html": [
       "<div>\n",
       "<style scoped>\n",
       "    .dataframe tbody tr th:only-of-type {\n",
       "        vertical-align: middle;\n",
       "    }\n",
       "\n",
       "    .dataframe tbody tr th {\n",
       "        vertical-align: top;\n",
       "    }\n",
       "\n",
       "    .dataframe thead th {\n",
       "        text-align: right;\n",
       "    }\n",
       "</style>\n",
       "<table border=\"1\" class=\"dataframe\">\n",
       "  <thead>\n",
       "    <tr style=\"text-align: right;\">\n",
       "      <th></th>\n",
       "      <th>CarName</th>\n",
       "      <th>fueltype</th>\n",
       "      <th>aspiration</th>\n",
       "      <th>doornumber</th>\n",
       "      <th>carbody</th>\n",
       "      <th>wheelbase</th>\n",
       "      <th>carlength</th>\n",
       "      <th>carwidth</th>\n",
       "      <th>carheight</th>\n",
       "      <th>curbweight</th>\n",
       "      <th>...</th>\n",
       "      <th>enginesize</th>\n",
       "      <th>fuelsystem</th>\n",
       "      <th>boreratio</th>\n",
       "      <th>stroke</th>\n",
       "      <th>compressionratio</th>\n",
       "      <th>horsepower</th>\n",
       "      <th>peakrpm</th>\n",
       "      <th>citympg</th>\n",
       "      <th>highwaympg</th>\n",
       "      <th>price</th>\n",
       "    </tr>\n",
       "  </thead>\n",
       "  <tbody>\n",
       "    <tr>\n",
       "      <th>0</th>\n",
       "      <td>2</td>\n",
       "      <td>1</td>\n",
       "      <td>0</td>\n",
       "      <td>1</td>\n",
       "      <td>0</td>\n",
       "      <td>0.058309</td>\n",
       "      <td>0.413433</td>\n",
       "      <td>0.316667</td>\n",
       "      <td>0.083333</td>\n",
       "      <td>0.411171</td>\n",
       "      <td>...</td>\n",
       "      <td>0.260377</td>\n",
       "      <td>5</td>\n",
       "      <td>0.664286</td>\n",
       "      <td>0.290476</td>\n",
       "      <td>0.12500</td>\n",
       "      <td>0.262500</td>\n",
       "      <td>0.346939</td>\n",
       "      <td>0.235294</td>\n",
       "      <td>0.289474</td>\n",
       "      <td>0.207959</td>\n",
       "    </tr>\n",
       "    <tr>\n",
       "      <th>1</th>\n",
       "      <td>3</td>\n",
       "      <td>1</td>\n",
       "      <td>0</td>\n",
       "      <td>1</td>\n",
       "      <td>0</td>\n",
       "      <td>0.058309</td>\n",
       "      <td>0.413433</td>\n",
       "      <td>0.316667</td>\n",
       "      <td>0.083333</td>\n",
       "      <td>0.411171</td>\n",
       "      <td>...</td>\n",
       "      <td>0.260377</td>\n",
       "      <td>5</td>\n",
       "      <td>0.664286</td>\n",
       "      <td>0.290476</td>\n",
       "      <td>0.12500</td>\n",
       "      <td>0.262500</td>\n",
       "      <td>0.346939</td>\n",
       "      <td>0.235294</td>\n",
       "      <td>0.289474</td>\n",
       "      <td>0.282558</td>\n",
       "    </tr>\n",
       "    <tr>\n",
       "      <th>2</th>\n",
       "      <td>1</td>\n",
       "      <td>1</td>\n",
       "      <td>0</td>\n",
       "      <td>1</td>\n",
       "      <td>2</td>\n",
       "      <td>0.230321</td>\n",
       "      <td>0.449254</td>\n",
       "      <td>0.433333</td>\n",
       "      <td>0.383333</td>\n",
       "      <td>0.517843</td>\n",
       "      <td>...</td>\n",
       "      <td>0.343396</td>\n",
       "      <td>5</td>\n",
       "      <td>0.100000</td>\n",
       "      <td>0.666667</td>\n",
       "      <td>0.12500</td>\n",
       "      <td>0.441667</td>\n",
       "      <td>0.346939</td>\n",
       "      <td>0.176471</td>\n",
       "      <td>0.263158</td>\n",
       "      <td>0.282558</td>\n",
       "    </tr>\n",
       "    <tr>\n",
       "      <th>3</th>\n",
       "      <td>4</td>\n",
       "      <td>1</td>\n",
       "      <td>0</td>\n",
       "      <td>0</td>\n",
       "      <td>3</td>\n",
       "      <td>0.384840</td>\n",
       "      <td>0.529851</td>\n",
       "      <td>0.491667</td>\n",
       "      <td>0.541667</td>\n",
       "      <td>0.329325</td>\n",
       "      <td>...</td>\n",
       "      <td>0.181132</td>\n",
       "      <td>5</td>\n",
       "      <td>0.464286</td>\n",
       "      <td>0.633333</td>\n",
       "      <td>0.18750</td>\n",
       "      <td>0.225000</td>\n",
       "      <td>0.551020</td>\n",
       "      <td>0.323529</td>\n",
       "      <td>0.368421</td>\n",
       "      <td>0.219254</td>\n",
       "    </tr>\n",
       "    <tr>\n",
       "      <th>4</th>\n",
       "      <td>5</td>\n",
       "      <td>1</td>\n",
       "      <td>0</td>\n",
       "      <td>0</td>\n",
       "      <td>3</td>\n",
       "      <td>0.373178</td>\n",
       "      <td>0.529851</td>\n",
       "      <td>0.508333</td>\n",
       "      <td>0.541667</td>\n",
       "      <td>0.518231</td>\n",
       "      <td>...</td>\n",
       "      <td>0.283019</td>\n",
       "      <td>5</td>\n",
       "      <td>0.464286</td>\n",
       "      <td>0.633333</td>\n",
       "      <td>0.06250</td>\n",
       "      <td>0.279167</td>\n",
       "      <td>0.551020</td>\n",
       "      <td>0.147059</td>\n",
       "      <td>0.157895</td>\n",
       "      <td>0.306142</td>\n",
       "    </tr>\n",
       "    <tr>\n",
       "      <th>...</th>\n",
       "      <td>...</td>\n",
       "      <td>...</td>\n",
       "      <td>...</td>\n",
       "      <td>...</td>\n",
       "      <td>...</td>\n",
       "      <td>...</td>\n",
       "      <td>...</td>\n",
       "      <td>...</td>\n",
       "      <td>...</td>\n",
       "      <td>...</td>\n",
       "      <td>...</td>\n",
       "      <td>...</td>\n",
       "      <td>...</td>\n",
       "      <td>...</td>\n",
       "      <td>...</td>\n",
       "      <td>...</td>\n",
       "      <td>...</td>\n",
       "      <td>...</td>\n",
       "      <td>...</td>\n",
       "      <td>...</td>\n",
       "      <td>...</td>\n",
       "    </tr>\n",
       "    <tr>\n",
       "      <th>200</th>\n",
       "      <td>139</td>\n",
       "      <td>1</td>\n",
       "      <td>0</td>\n",
       "      <td>0</td>\n",
       "      <td>3</td>\n",
       "      <td>0.655977</td>\n",
       "      <td>0.711940</td>\n",
       "      <td>0.716667</td>\n",
       "      <td>0.641667</td>\n",
       "      <td>0.567882</td>\n",
       "      <td>...</td>\n",
       "      <td>0.301887</td>\n",
       "      <td>5</td>\n",
       "      <td>0.885714</td>\n",
       "      <td>0.514286</td>\n",
       "      <td>0.15625</td>\n",
       "      <td>0.275000</td>\n",
       "      <td>0.510204</td>\n",
       "      <td>0.294118</td>\n",
       "      <td>0.315789</td>\n",
       "      <td>0.291123</td>\n",
       "    </tr>\n",
       "    <tr>\n",
       "      <th>201</th>\n",
       "      <td>138</td>\n",
       "      <td>1</td>\n",
       "      <td>1</td>\n",
       "      <td>0</td>\n",
       "      <td>3</td>\n",
       "      <td>0.655977</td>\n",
       "      <td>0.711940</td>\n",
       "      <td>0.708333</td>\n",
       "      <td>0.641667</td>\n",
       "      <td>0.605508</td>\n",
       "      <td>...</td>\n",
       "      <td>0.301887</td>\n",
       "      <td>5</td>\n",
       "      <td>0.885714</td>\n",
       "      <td>0.514286</td>\n",
       "      <td>0.10625</td>\n",
       "      <td>0.466667</td>\n",
       "      <td>0.469388</td>\n",
       "      <td>0.176471</td>\n",
       "      <td>0.236842</td>\n",
       "      <td>0.345738</td>\n",
       "    </tr>\n",
       "    <tr>\n",
       "      <th>202</th>\n",
       "      <td>140</td>\n",
       "      <td>1</td>\n",
       "      <td>0</td>\n",
       "      <td>0</td>\n",
       "      <td>3</td>\n",
       "      <td>0.655977</td>\n",
       "      <td>0.711940</td>\n",
       "      <td>0.716667</td>\n",
       "      <td>0.641667</td>\n",
       "      <td>0.591156</td>\n",
       "      <td>...</td>\n",
       "      <td>0.422642</td>\n",
       "      <td>5</td>\n",
       "      <td>0.742857</td>\n",
       "      <td>0.380952</td>\n",
       "      <td>0.11250</td>\n",
       "      <td>0.358333</td>\n",
       "      <td>0.551020</td>\n",
       "      <td>0.147059</td>\n",
       "      <td>0.184211</td>\n",
       "      <td>0.406311</td>\n",
       "    </tr>\n",
       "    <tr>\n",
       "      <th>203</th>\n",
       "      <td>142</td>\n",
       "      <td>0</td>\n",
       "      <td>1</td>\n",
       "      <td>0</td>\n",
       "      <td>3</td>\n",
       "      <td>0.655977</td>\n",
       "      <td>0.711940</td>\n",
       "      <td>0.716667</td>\n",
       "      <td>0.641667</td>\n",
       "      <td>0.670675</td>\n",
       "      <td>...</td>\n",
       "      <td>0.316981</td>\n",
       "      <td>3</td>\n",
       "      <td>0.335714</td>\n",
       "      <td>0.633333</td>\n",
       "      <td>1.00000</td>\n",
       "      <td>0.241667</td>\n",
       "      <td>0.265306</td>\n",
       "      <td>0.382353</td>\n",
       "      <td>0.289474</td>\n",
       "      <td>0.430763</td>\n",
       "    </tr>\n",
       "    <tr>\n",
       "      <th>204</th>\n",
       "      <td>143</td>\n",
       "      <td>1</td>\n",
       "      <td>1</td>\n",
       "      <td>0</td>\n",
       "      <td>3</td>\n",
       "      <td>0.655977</td>\n",
       "      <td>0.711940</td>\n",
       "      <td>0.716667</td>\n",
       "      <td>0.641667</td>\n",
       "      <td>0.610551</td>\n",
       "      <td>...</td>\n",
       "      <td>0.301887</td>\n",
       "      <td>5</td>\n",
       "      <td>0.885714</td>\n",
       "      <td>0.514286</td>\n",
       "      <td>0.15625</td>\n",
       "      <td>0.275000</td>\n",
       "      <td>0.510204</td>\n",
       "      <td>0.176471</td>\n",
       "      <td>0.236842</td>\n",
       "      <td>0.434611</td>\n",
       "    </tr>\n",
       "  </tbody>\n",
       "</table>\n",
       "<p>205 rows × 21 columns</p>\n",
       "</div>"
      ],
      "text/plain": [
       "     CarName  fueltype  aspiration  doornumber  carbody  wheelbase  carlength  \\\n",
       "0          2         1           0           1        0   0.058309   0.413433   \n",
       "1          3         1           0           1        0   0.058309   0.413433   \n",
       "2          1         1           0           1        2   0.230321   0.449254   \n",
       "3          4         1           0           0        3   0.384840   0.529851   \n",
       "4          5         1           0           0        3   0.373178   0.529851   \n",
       "..       ...       ...         ...         ...      ...        ...        ...   \n",
       "200      139         1           0           0        3   0.655977   0.711940   \n",
       "201      138         1           1           0        3   0.655977   0.711940   \n",
       "202      140         1           0           0        3   0.655977   0.711940   \n",
       "203      142         0           1           0        3   0.655977   0.711940   \n",
       "204      143         1           1           0        3   0.655977   0.711940   \n",
       "\n",
       "     carwidth  carheight  curbweight  ...  enginesize  fuelsystem  boreratio  \\\n",
       "0    0.316667   0.083333    0.411171  ...    0.260377           5   0.664286   \n",
       "1    0.316667   0.083333    0.411171  ...    0.260377           5   0.664286   \n",
       "2    0.433333   0.383333    0.517843  ...    0.343396           5   0.100000   \n",
       "3    0.491667   0.541667    0.329325  ...    0.181132           5   0.464286   \n",
       "4    0.508333   0.541667    0.518231  ...    0.283019           5   0.464286   \n",
       "..        ...        ...         ...  ...         ...         ...        ...   \n",
       "200  0.716667   0.641667    0.567882  ...    0.301887           5   0.885714   \n",
       "201  0.708333   0.641667    0.605508  ...    0.301887           5   0.885714   \n",
       "202  0.716667   0.641667    0.591156  ...    0.422642           5   0.742857   \n",
       "203  0.716667   0.641667    0.670675  ...    0.316981           3   0.335714   \n",
       "204  0.716667   0.641667    0.610551  ...    0.301887           5   0.885714   \n",
       "\n",
       "       stroke  compressionratio  horsepower   peakrpm   citympg  highwaympg  \\\n",
       "0    0.290476           0.12500    0.262500  0.346939  0.235294    0.289474   \n",
       "1    0.290476           0.12500    0.262500  0.346939  0.235294    0.289474   \n",
       "2    0.666667           0.12500    0.441667  0.346939  0.176471    0.263158   \n",
       "3    0.633333           0.18750    0.225000  0.551020  0.323529    0.368421   \n",
       "4    0.633333           0.06250    0.279167  0.551020  0.147059    0.157895   \n",
       "..        ...               ...         ...       ...       ...         ...   \n",
       "200  0.514286           0.15625    0.275000  0.510204  0.294118    0.315789   \n",
       "201  0.514286           0.10625    0.466667  0.469388  0.176471    0.236842   \n",
       "202  0.380952           0.11250    0.358333  0.551020  0.147059    0.184211   \n",
       "203  0.633333           1.00000    0.241667  0.265306  0.382353    0.289474   \n",
       "204  0.514286           0.15625    0.275000  0.510204  0.176471    0.236842   \n",
       "\n",
       "        price  \n",
       "0    0.207959  \n",
       "1    0.282558  \n",
       "2    0.282558  \n",
       "3    0.219254  \n",
       "4    0.306142  \n",
       "..        ...  \n",
       "200  0.291123  \n",
       "201  0.345738  \n",
       "202  0.406311  \n",
       "203  0.430763  \n",
       "204  0.434611  \n",
       "\n",
       "[205 rows x 21 columns]"
      ]
     },
     "execution_count": 12,
     "metadata": {},
     "output_type": "execute_result"
    }
   ],
   "source": [
    "df1"
   ]
  },
  {
   "cell_type": "code",
   "execution_count": 13,
   "id": "1ee650e5",
   "metadata": {},
   "outputs": [],
   "source": [
    "X=df1.drop('price',axis=1)\n",
    "y=df1['price']"
   ]
  },
  {
   "cell_type": "markdown",
   "id": "8dde187f",
   "metadata": {},
   "source": [
    "### TRAIN TEST SPLIT\n",
    "- The data has been split into train data 80% and test data 20%\n",
    "- Random state 35"
   ]
  },
  {
   "cell_type": "code",
   "execution_count": 14,
   "id": "c673aa27",
   "metadata": {},
   "outputs": [],
   "source": [
    "xtrain,xtest,ytrain,ytest=train_test_split(X,y,test_size=0.2,random_state=35)"
   ]
  },
  {
   "cell_type": "code",
   "execution_count": 15,
   "id": "49c2e47d",
   "metadata": {},
   "outputs": [
    {
     "name": "stdout",
     "output_type": "stream",
     "text": [
      "xtrain shape(164, 20)\n",
      "xtest shape(41, 20)\n",
      "ytrain shape(164,)\n",
      "ytest shape(41,)\n"
     ]
    }
   ],
   "source": [
    "print(f'xtrain shape{xtrain.shape}')\n",
    "print(f'xtest shape{xtest.shape}')\n",
    "print(f'ytrain shape{ytrain.shape}')\n",
    "print(f'ytest shape{ytest.shape}')"
   ]
  },
  {
   "cell_type": "markdown",
   "id": "dd3633e9",
   "metadata": {},
   "source": [
    "### DECISION TREE REGRESSOR"
   ]
  },
  {
   "cell_type": "code",
   "execution_count": 16,
   "id": "e274b308",
   "metadata": {},
   "outputs": [],
   "source": [
    "dtreg=DecisionTreeRegressor()"
   ]
  },
  {
   "cell_type": "code",
   "execution_count": 17,
   "id": "379153d4",
   "metadata": {},
   "outputs": [
    {
     "data": {
      "text/plain": [
       "DecisionTreeRegressor()"
      ]
     },
     "execution_count": 17,
     "metadata": {},
     "output_type": "execute_result"
    }
   ],
   "source": [
    "dtreg.fit(xtrain,ytrain)"
   ]
  },
  {
   "cell_type": "code",
   "execution_count": 18,
   "id": "167dbc32",
   "metadata": {},
   "outputs": [
    {
     "data": {
      "text/html": [
       "<div>\n",
       "<style scoped>\n",
       "    .dataframe tbody tr th:only-of-type {\n",
       "        vertical-align: middle;\n",
       "    }\n",
       "\n",
       "    .dataframe tbody tr th {\n",
       "        vertical-align: top;\n",
       "    }\n",
       "\n",
       "    .dataframe thead th {\n",
       "        text-align: right;\n",
       "    }\n",
       "</style>\n",
       "<table border=\"1\" class=\"dataframe\">\n",
       "  <thead>\n",
       "    <tr style=\"text-align: right;\">\n",
       "      <th></th>\n",
       "      <th>CarName</th>\n",
       "      <th>fueltype</th>\n",
       "      <th>aspiration</th>\n",
       "      <th>doornumber</th>\n",
       "      <th>carbody</th>\n",
       "      <th>wheelbase</th>\n",
       "      <th>carlength</th>\n",
       "      <th>carwidth</th>\n",
       "      <th>carheight</th>\n",
       "      <th>curbweight</th>\n",
       "      <th>enginetype</th>\n",
       "      <th>enginesize</th>\n",
       "      <th>fuelsystem</th>\n",
       "      <th>boreratio</th>\n",
       "      <th>stroke</th>\n",
       "      <th>compressionratio</th>\n",
       "      <th>horsepower</th>\n",
       "      <th>peakrpm</th>\n",
       "      <th>citympg</th>\n",
       "      <th>highwaympg</th>\n",
       "    </tr>\n",
       "  </thead>\n",
       "  <tbody>\n",
       "    <tr>\n",
       "      <th>200</th>\n",
       "      <td>139</td>\n",
       "      <td>1</td>\n",
       "      <td>0</td>\n",
       "      <td>0</td>\n",
       "      <td>3</td>\n",
       "      <td>0.655977</td>\n",
       "      <td>0.711940</td>\n",
       "      <td>0.716667</td>\n",
       "      <td>0.641667</td>\n",
       "      <td>0.567882</td>\n",
       "      <td>3</td>\n",
       "      <td>0.301887</td>\n",
       "      <td>5</td>\n",
       "      <td>0.885714</td>\n",
       "      <td>0.514286</td>\n",
       "      <td>0.15625</td>\n",
       "      <td>0.275000</td>\n",
       "      <td>0.510204</td>\n",
       "      <td>0.294118</td>\n",
       "      <td>0.315789</td>\n",
       "    </tr>\n",
       "    <tr>\n",
       "      <th>133</th>\n",
       "      <td>103</td>\n",
       "      <td>1</td>\n",
       "      <td>0</td>\n",
       "      <td>0</td>\n",
       "      <td>3</td>\n",
       "      <td>0.364431</td>\n",
       "      <td>0.679104</td>\n",
       "      <td>0.516667</td>\n",
       "      <td>0.691667</td>\n",
       "      <td>0.468192</td>\n",
       "      <td>3</td>\n",
       "      <td>0.226415</td>\n",
       "      <td>5</td>\n",
       "      <td>0.714286</td>\n",
       "      <td>0.476190</td>\n",
       "      <td>0.14375</td>\n",
       "      <td>0.258333</td>\n",
       "      <td>0.448980</td>\n",
       "      <td>0.235294</td>\n",
       "      <td>0.315789</td>\n",
       "    </tr>\n",
       "    <tr>\n",
       "      <th>181</th>\n",
       "      <td>128</td>\n",
       "      <td>1</td>\n",
       "      <td>0</td>\n",
       "      <td>0</td>\n",
       "      <td>4</td>\n",
       "      <td>0.521866</td>\n",
       "      <td>0.697015</td>\n",
       "      <td>0.516667</td>\n",
       "      <td>0.525000</td>\n",
       "      <td>0.645074</td>\n",
       "      <td>0</td>\n",
       "      <td>0.377358</td>\n",
       "      <td>5</td>\n",
       "      <td>0.521429</td>\n",
       "      <td>0.609524</td>\n",
       "      <td>0.13750</td>\n",
       "      <td>0.450000</td>\n",
       "      <td>0.428571</td>\n",
       "      <td>0.176471</td>\n",
       "      <td>0.210526</td>\n",
       "    </tr>\n",
       "    <tr>\n",
       "      <th>157</th>\n",
       "      <td>116</td>\n",
       "      <td>1</td>\n",
       "      <td>0</td>\n",
       "      <td>0</td>\n",
       "      <td>2</td>\n",
       "      <td>0.265306</td>\n",
       "      <td>0.376119</td>\n",
       "      <td>0.341667</td>\n",
       "      <td>0.416667</td>\n",
       "      <td>0.240884</td>\n",
       "      <td>3</td>\n",
       "      <td>0.139623</td>\n",
       "      <td>1</td>\n",
       "      <td>0.464286</td>\n",
       "      <td>0.457143</td>\n",
       "      <td>0.12500</td>\n",
       "      <td>0.091667</td>\n",
       "      <td>0.265306</td>\n",
       "      <td>0.500000</td>\n",
       "      <td>0.552632</td>\n",
       "    </tr>\n",
       "    <tr>\n",
       "      <th>28</th>\n",
       "      <td>33</td>\n",
       "      <td>1</td>\n",
       "      <td>0</td>\n",
       "      <td>0</td>\n",
       "      <td>4</td>\n",
       "      <td>0.486880</td>\n",
       "      <td>0.500000</td>\n",
       "      <td>0.358333</td>\n",
       "      <td>1.000000</td>\n",
       "      <td>0.406129</td>\n",
       "      <td>3</td>\n",
       "      <td>0.222642</td>\n",
       "      <td>1</td>\n",
       "      <td>0.571429</td>\n",
       "      <td>0.661905</td>\n",
       "      <td>0.09375</td>\n",
       "      <td>0.166667</td>\n",
       "      <td>0.346939</td>\n",
       "      <td>0.323529</td>\n",
       "      <td>0.368421</td>\n",
       "    </tr>\n",
       "  </tbody>\n",
       "</table>\n",
       "</div>"
      ],
      "text/plain": [
       "     CarName  fueltype  aspiration  doornumber  carbody  wheelbase  carlength  \\\n",
       "200      139         1           0           0        3   0.655977   0.711940   \n",
       "133      103         1           0           0        3   0.364431   0.679104   \n",
       "181      128         1           0           0        4   0.521866   0.697015   \n",
       "157      116         1           0           0        2   0.265306   0.376119   \n",
       "28        33         1           0           0        4   0.486880   0.500000   \n",
       "\n",
       "     carwidth  carheight  curbweight  enginetype  enginesize  fuelsystem  \\\n",
       "200  0.716667   0.641667    0.567882           3    0.301887           5   \n",
       "133  0.516667   0.691667    0.468192           3    0.226415           5   \n",
       "181  0.516667   0.525000    0.645074           0    0.377358           5   \n",
       "157  0.341667   0.416667    0.240884           3    0.139623           1   \n",
       "28   0.358333   1.000000    0.406129           3    0.222642           1   \n",
       "\n",
       "     boreratio    stroke  compressionratio  horsepower   peakrpm   citympg  \\\n",
       "200   0.885714  0.514286           0.15625    0.275000  0.510204  0.294118   \n",
       "133   0.714286  0.476190           0.14375    0.258333  0.448980  0.235294   \n",
       "181   0.521429  0.609524           0.13750    0.450000  0.428571  0.176471   \n",
       "157   0.464286  0.457143           0.12500    0.091667  0.265306  0.500000   \n",
       "28    0.571429  0.661905           0.09375    0.166667  0.346939  0.323529   \n",
       "\n",
       "     highwaympg  \n",
       "200    0.315789  \n",
       "133    0.315789  \n",
       "181    0.210526  \n",
       "157    0.552632  \n",
       "28     0.368421  "
      ]
     },
     "execution_count": 18,
     "metadata": {},
     "output_type": "execute_result"
    }
   ],
   "source": [
    "ypred=dtreg.predict(xtest)\n",
    "xtest.head()"
   ]
  },
  {
   "cell_type": "code",
   "execution_count": 19,
   "id": "7c251aca",
   "metadata": {},
   "outputs": [
    {
     "data": {
      "text/plain": [
       "0.9205326527260929"
      ]
     },
     "execution_count": 19,
     "metadata": {},
     "output_type": "execute_result"
    }
   ],
   "source": [
    "r2_score(ytest,ypred)"
   ]
  },
  {
   "cell_type": "code",
   "execution_count": 20,
   "id": "00b77cd5",
   "metadata": {},
   "outputs": [
    {
     "data": {
      "text/plain": [
       "0.0030942740765102605"
      ]
     },
     "execution_count": 20,
     "metadata": {},
     "output_type": "execute_result"
    }
   ],
   "source": [
    "mean_squared_error(ytest,ypred)"
   ]
  },
  {
   "cell_type": "code",
   "execution_count": 21,
   "id": "288d83f6",
   "metadata": {},
   "outputs": [
    {
     "data": {
      "text/plain": [
       "0.24937688501625896"
      ]
     },
     "execution_count": 21,
     "metadata": {},
     "output_type": "execute_result"
    }
   ],
   "source": [
    "mean_absolute_percentage_error(ytest,ypred)"
   ]
  },
  {
   "cell_type": "markdown",
   "id": "7267ca38",
   "metadata": {},
   "source": [
    "### INFERENCE\n",
    "- Using DecisionTreeRegressor with deafult parameters r2_score is 88% \n",
    "- mean absolute percentage error is 23%"
   ]
  },
  {
   "cell_type": "code",
   "execution_count": 22,
   "id": "23ba8b0e",
   "metadata": {},
   "outputs": [
    {
     "data": {
      "image/png": "[encoded data removed]",
      "text/plain": [
       "<Figure size 2160x2160 with 1 Axes>"
      ]
     },
     "metadata": {
      "needs_background": "light"
     },
     "output_type": "display_data"
    }
   ],
   "source": [
    "import matplotlib.pyplot as plt\n",
    "clf = DecisionTreeRegressor(max_depth=3)\n",
    "clf.fit(xtrain,ytrain)\n",
    "from sklearn import tree\n",
    "plt.figure(figsize=(30,30))\n",
    "tree.plot_tree(clf,feature_names=list(xtrain.columns.values),class_names=['0','1'],filled=True);"
   ]
  },
  {
   "cell_type": "code",
   "execution_count": 23,
   "id": "90a242c7",
   "metadata": {},
   "outputs": [
    {
     "data": {
      "text/plain": [
       "enginesize          6.757181e-01\n",
       "curbweight          2.303043e-01\n",
       "carwidth            2.231567e-02\n",
       "citympg             1.820051e-02\n",
       "CarName             1.205717e-02\n",
       "highwaympg          1.097782e-02\n",
       "compressionratio    8.891137e-03\n",
       "stroke              6.334174e-03\n",
       "horsepower          6.013263e-03\n",
       "carbody             3.553714e-03\n",
       "carheight           3.292130e-03\n",
       "carlength           1.521739e-03\n",
       "wheelbase           5.501702e-04\n",
       "peakrpm             1.411558e-04\n",
       "fuelsystem          7.146532e-05\n",
       "enginetype          2.973364e-05\n",
       "aspiration          1.704749e-05\n",
       "boreratio           1.060489e-05\n",
       "doornumber          1.201688e-07\n",
       "fueltype            0.000000e+00\n",
       "dtype: float64"
      ]
     },
     "execution_count": 23,
     "metadata": {},
     "output_type": "execute_result"
    }
   ],
   "source": [
    "feat_imp = dtreg.feature_importances_\n",
    "pd.Series(feat_imp,index=list(xtrain.columns.values)).sort_values(ascending=False)"
   ]
  },
  {
   "cell_type": "markdown",
   "id": "11a16f5f",
   "metadata": {},
   "source": [
    "### GradientBoostingRegressor"
   ]
  },
  {
   "cell_type": "code",
   "execution_count": 24,
   "id": "d598cc6d",
   "metadata": {},
   "outputs": [],
   "source": [
    "gbr=GradientBoostingRegressor()"
   ]
  },
  {
   "cell_type": "code",
   "execution_count": 25,
   "id": "fd6c17c0",
   "metadata": {},
   "outputs": [
    {
     "data": {
      "text/plain": [
       "GradientBoostingRegressor()"
      ]
     },
     "execution_count": 25,
     "metadata": {},
     "output_type": "execute_result"
    }
   ],
   "source": [
    "gbr.fit(xtrain,ytrain)"
   ]
  },
  {
   "cell_type": "code",
   "execution_count": 26,
   "id": "fc8f0172",
   "metadata": {},
   "outputs": [],
   "source": [
    "ypred=gbr.predict(xtest)"
   ]
  },
  {
   "cell_type": "code",
   "execution_count": 27,
   "id": "02027ac2",
   "metadata": {},
   "outputs": [
    {
     "data": {
      "text/plain": [
       "0.9627667721905588"
      ]
     },
     "execution_count": 27,
     "metadata": {},
     "output_type": "execute_result"
    }
   ],
   "source": [
    "r2_score(ytest,ypred)"
   ]
  },
  {
   "cell_type": "code",
   "execution_count": 28,
   "id": "1df700f7",
   "metadata": {},
   "outputs": [
    {
     "data": {
      "text/plain": [
       "0.0014497754807197818"
      ]
     },
     "execution_count": 28,
     "metadata": {},
     "output_type": "execute_result"
    }
   ],
   "source": [
    "mean_squared_error(ytest,ypred)"
   ]
  },
  {
   "cell_type": "code",
   "execution_count": 29,
   "id": "22707885",
   "metadata": {},
   "outputs": [
    {
     "data": {
      "text/plain": [
       "0.22103212814437212"
      ]
     },
     "execution_count": 29,
     "metadata": {},
     "output_type": "execute_result"
    }
   ],
   "source": [
    "mean_absolute_percentage_error(ytest,ypred)"
   ]
  },
  {
   "cell_type": "markdown",
   "id": "2a476811",
   "metadata": {},
   "source": [
    "### INFERENCE\n",
    "- r2_score of gradientboostingregressor is 96% very high\n",
    "- meanabsolute percentage error is 22%"
   ]
  },
  {
   "cell_type": "markdown",
   "id": "75b21062",
   "metadata": {},
   "source": [
    "### HYPERPARAMETER TUNING\n",
    "\n",
    "### USING RANDOMIZED SEARCH CV"
   ]
  },
  {
   "cell_type": "code",
   "execution_count": 30,
   "id": "09040966",
   "metadata": {},
   "outputs": [],
   "source": [
    "mod=RandomizedSearchCV(gbr,{'n_estimators':[i for i in range(100,250,10)],'learning_rate':[0.1,0.2,0.3,0.4,0.5],'max_depth':range(3,12)},cv=15)"
   ]
  },
  {
   "cell_type": "code",
   "execution_count": 31,
   "id": "b66364b7",
   "metadata": {},
   "outputs": [
    {
     "data": {
      "text/plain": [
       "RandomizedSearchCV(cv=15, estimator=GradientBoostingRegressor(),\n",
       "                   param_distributions={'learning_rate': [0.1, 0.2, 0.3, 0.4,\n",
       "                                                          0.5],\n",
       "                                        'max_depth': range(3, 12),\n",
       "                                        'n_estimators': [100, 110, 120, 130,\n",
       "                                                         140, 150, 160, 170,\n",
       "                                                         180, 190, 200, 210,\n",
       "                                                         220, 230, 240]})"
      ]
     },
     "execution_count": 31,
     "metadata": {},
     "output_type": "execute_result"
    }
   ],
   "source": [
    "mod.fit(xtrain,ytrain)"
   ]
  },
  {
   "cell_type": "code",
   "execution_count": 32,
   "id": "46ecddc8",
   "metadata": {},
   "outputs": [
    {
     "data": {
      "text/plain": [
       "0.8762223559006305"
      ]
     },
     "execution_count": 32,
     "metadata": {},
     "output_type": "execute_result"
    }
   ],
   "source": [
    "mod.best_score_"
   ]
  },
  {
   "cell_type": "code",
   "execution_count": 33,
   "id": "0f7eef15",
   "metadata": {},
   "outputs": [
    {
     "data": {
      "text/plain": [
       "{'n_estimators': 170, 'max_depth': 3, 'learning_rate': 0.1}"
      ]
     },
     "execution_count": 33,
     "metadata": {},
     "output_type": "execute_result"
    }
   ],
   "source": [
    "mod.best_params_"
   ]
  },
  {
   "cell_type": "code",
   "execution_count": 34,
   "id": "ca048c4a",
   "metadata": {},
   "outputs": [],
   "source": [
    "ypred1=mod.predict(xtest)"
   ]
  },
  {
   "cell_type": "code",
   "execution_count": 35,
   "id": "eac44b41",
   "metadata": {},
   "outputs": [
    {
     "data": {
      "text/plain": [
       "0.9581680850061821"
      ]
     },
     "execution_count": 35,
     "metadata": {},
     "output_type": "execute_result"
    }
   ],
   "source": [
    "r2_score(ytest,ypred1)"
   ]
  },
  {
   "cell_type": "code",
   "execution_count": 36,
   "id": "744b1ea3",
   "metadata": {},
   "outputs": [
    {
     "data": {
      "text/plain": [
       "0.0016288376871320639"
      ]
     },
     "execution_count": 36,
     "metadata": {},
     "output_type": "execute_result"
    }
   ],
   "source": [
    "mean_squared_error(ytest,ypred1)"
   ]
  },
  {
   "cell_type": "code",
   "execution_count": 37,
   "id": "ffe0be4e",
   "metadata": {},
   "outputs": [
    {
     "data": {
      "text/plain": [
       "0.22138990857917765"
      ]
     },
     "execution_count": 37,
     "metadata": {},
     "output_type": "execute_result"
    }
   ],
   "source": [
    "mean_absolute_percentage_error(ytest,ypred1)"
   ]
  },
  {
   "cell_type": "markdown",
   "id": "e8fbf2fe",
   "metadata": {},
   "source": [
    "### INFERENCE\n",
    "- r2_score of randomized search cv is 92%\n",
    "- with mean absolute percentage error of 22%"
   ]
  },
  {
   "cell_type": "markdown",
   "id": "400a61af",
   "metadata": {},
   "source": [
    "### ADABOOST REGRESSOR"
   ]
  },
  {
   "cell_type": "code",
   "execution_count": 38,
   "id": "d4cb4990",
   "metadata": {},
   "outputs": [],
   "source": [
    "abr=AdaBoostRegressor(n_estimators=100)"
   ]
  },
  {
   "cell_type": "code",
   "execution_count": 39,
   "id": "8d774573",
   "metadata": {},
   "outputs": [
    {
     "data": {
      "text/plain": [
       "AdaBoostRegressor(n_estimators=100)"
      ]
     },
     "execution_count": 39,
     "metadata": {},
     "output_type": "execute_result"
    }
   ],
   "source": [
    "abr.fit(xtrain,ytrain)"
   ]
  },
  {
   "cell_type": "code",
   "execution_count": 40,
   "id": "6d893127",
   "metadata": {},
   "outputs": [],
   "source": [
    "ypred_abr=abr.predict(xtest)"
   ]
  },
  {
   "cell_type": "code",
   "execution_count": 41,
   "id": "c41e42f6",
   "metadata": {},
   "outputs": [
    {
     "data": {
      "text/plain": [
       "0.9369650385119952"
      ]
     },
     "execution_count": 41,
     "metadata": {},
     "output_type": "execute_result"
    }
   ],
   "source": [
    "r2_score(ytest,ypred_abr)"
   ]
  },
  {
   "cell_type": "code",
   "execution_count": 42,
   "id": "05ece2d3",
   "metadata": {},
   "outputs": [
    {
     "data": {
      "text/plain": [
       "0.002454435109981318"
      ]
     },
     "execution_count": 42,
     "metadata": {},
     "output_type": "execute_result"
    }
   ],
   "source": [
    "mean_squared_error(ytest,ypred_abr)"
   ]
  },
  {
   "cell_type": "code",
   "execution_count": 43,
   "id": "89da4a1d",
   "metadata": {},
   "outputs": [
    {
     "data": {
      "text/plain": [
       "0.44228396805099746"
      ]
     },
     "execution_count": 43,
     "metadata": {},
     "output_type": "execute_result"
    }
   ],
   "source": [
    "mean_absolute_percentage_error(ytest,ypred_abr)"
   ]
  },
  {
   "cell_type": "markdown",
   "id": "0984f137",
   "metadata": {},
   "source": [
    "### INFERENCE \n",
    "- Adaboost has the r2_score of 94%\n",
    "- With mean absolute percentage error of 42%"
   ]
  },
  {
   "cell_type": "markdown",
   "id": "2fb7e37d",
   "metadata": {},
   "source": [
    "# OVERALL INFERENCE\n",
    "\n",
    "- From the above used models ***GRADIENT BOOST REGRESSOR MODEL*** works best with highest **r2_score** and less **mean absolute percentage error**\n",
    "- Using feature importance column we came to know ***Enginesize*** plays major role in model prediction\n",
    "- ***Enginesize*** describe the price of used cars by **67%**"
   ]
  },
  {
   "cell_type": "code",
   "execution_count": null,
   "id": "869f9656",
   "metadata": {},
   "outputs": [],
   "source": []
  }
 ],
 "metadata": {
  "kernelspec": {
   "display_name": "Python 3 (ipykernel)",
   "language": "python",
   "name": "python3"
  },
  "language_info": {
   "codemirror_mode": {
    "name": "ipython",
    "version": 3
   },
   "file_extension": ".py",
   "mimetype": "text/x-python",
   "name": "python",
   "nbconvert_exporter": "python",
   "pygments_lexer": "ipython3",
   "version": "3.9.12"
  }
 },
 "nbformat": 4,
 "nbformat_minor": 5
}
